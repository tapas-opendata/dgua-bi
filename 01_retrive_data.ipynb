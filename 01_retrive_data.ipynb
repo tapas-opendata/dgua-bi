{
 "cells": [
  {
   "cell_type": "code",
   "execution_count": 1,
   "metadata": {},
   "outputs": [],
   "source": [
    "import json\n",
    "import requests\n",
    "import time\n",
    "import itertools\n",
    "from tqdm import tqdm"
   ]
  },
  {
   "cell_type": "markdown",
   "metadata": {},
   "source": [
    "##  #1 Retrive packages\n",
    "This script retrieves packages metadata from data.gov.ua and saves it locally in **packages.json**."
   ]
  },
  {
   "cell_type": "code",
   "execution_count": 2,
   "metadata": {},
   "outputs": [
    {
     "name": "stderr",
     "output_type": "stream",
     "text": [
      "100%|██████████| 9085/9085 [20:44<00:00,  8.18it/s]  \n"
     ]
    }
   ],
   "source": [
    "# get package identifiers, generate URLs\n",
    "package_list = requests.get(\"https://data.gov.ua/api/3/action/package_list\").json()[\"result\"]\n",
    "package_list = [\"https://data.gov.ua/api/3/action/package_show?id={}\".format(i) for i in package_list]\n",
    "\n",
    "# get packages matadata\n",
    "packages = []\n",
    "for i in tqdm(package_list):\n",
    "    r = requests.get(i).json()\n",
    "    packages.append(r)\n",
    "    time.sleep(0.01)\n",
    "\n",
    "# get result\n",
    "packages = [i[\"result\"] for i in packages if i[\"success\"] == True]\n",
    "    \n",
    "# save copy of JSON locally\n",
    "with open('data/packages.json', 'w') as outfile:\n",
    "    json.dump(packages, outfile, ensure_ascii=False)"
   ]
  },
  {
   "cell_type": "markdown",
   "metadata": {},
   "source": [
    "## #2 Datastore API availability\n",
    "This script retrieves additional properties of resources from CKAN Datastore API and saves it locally in **resource_samples.json**."
   ]
  },
  {
   "cell_type": "code",
   "execution_count": 3,
   "metadata": {},
   "outputs": [
    {
     "name": "stderr",
     "output_type": "stream",
     "text": [
      "100%|██████████| 32309/32309 [1:17:33<00:00,  3.39it/s]  \n"
     ]
    }
   ],
   "source": [
    "# get ids of resources\n",
    "resources = [i[\"resources\"] for i in packages]\n",
    "resources = list(itertools.chain(*resources))\n",
    "resource_id = [i[\"id\"] for i in resources]\n",
    "\n",
    "# generate list of URLs\n",
    "resource_list = [\"https://data.gov.ua/api/3/action/datastore_search?resource_id={}&limit=1\".format(i) for i in resource_id]\n",
    "resource_samples = []\n",
    "for i in tqdm(resource_list):\n",
    "    r = requests.get(i).json()\n",
    "    resource_samples.append(r)\n",
    "    time.sleep(0.01)\n",
    "\n",
    "# save copy of JSON locally\n",
    "with open('data/resource_samples.json', 'w') as outfile:\n",
    "    json.dump(resource_samples, outfile, ensure_ascii=False)"
   ]
  }
 ],
 "metadata": {
  "kernelspec": {
   "display_name": "Python 3",
   "language": "python",
   "name": "python3"
  },
  "language_info": {
   "codemirror_mode": {
    "name": "ipython",
    "version": 3
   },
   "file_extension": ".py",
   "mimetype": "text/x-python",
   "name": "python",
   "nbconvert_exporter": "python",
   "pygments_lexer": "ipython3",
   "version": "3.6.7"
  }
 },
 "nbformat": 4,
 "nbformat_minor": 2
}
