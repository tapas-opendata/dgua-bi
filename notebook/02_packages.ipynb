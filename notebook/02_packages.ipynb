{
 "cells": [
  {
   "cell_type": "code",
   "execution_count": 3,
   "metadata": {},
   "outputs": [],
   "source": [
    "import json\n",
    "import datetime\n",
    "import re\n",
    "import numpy as np\n",
    "import pandas as pd\n",
    "from dateutil.parser import parse"
   ]
  },
  {
   "cell_type": "code",
   "execution_count": 4,
   "metadata": {},
   "outputs": [],
   "source": [
    "# open local copy\n",
    "with open('data/packages.json') as json_file:\n",
    "    packages = json.load(json_file)"
   ]
  },
  {
   "cell_type": "markdown",
   "metadata": {},
   "source": [
    "## #1. Subset values of dicts in arrays"
   ]
  },
  {
   "cell_type": "code",
   "execution_count": 5,
   "metadata": {},
   "outputs": [],
   "source": [
    "# common metadata\n",
    "package_id = [i[\"id\"] for i in packages]\n",
    "package_title = [i[\"title\"] for i in packages]\n",
    "package_notes  = [i[\"notes\"] for i in packages]\n",
    "package_purpose = [i[\"purpose_of_collecting_information\"] for i in packages]\n",
    "package_url = [\"https://data.gov.ua/dataset/{}\".format(i) for i in package_id]\n",
    "\n",
    "# get license\n",
    "package_license_title = [i[\"license_title\"] if \"license_title\" in i else 'null' for i in packages]\n",
    "package_license_id = [i[\"license_id\"] if \"license_id\" in i else 'null' for i in packages]\n",
    "\n",
    "# get resources\n",
    "package_num_resources = [i[\"num_resources\"] if \"num_resources\" in i else 'null' for i in packages]\n",
    "\n",
    "# get tags\n",
    "package_tag_string = [i[\"tag_string\"] for i in packages]\n",
    "package_num_tags = [i[\"num_tags\"] if \"num_tags\" in i else 'null' for i in packages] # debug absent keys in objects\n",
    "\n",
    "# get dates\n",
    "package_update_frequency = [i[\"update_frequency\"] for i in packages]\n",
    "package_metadata_created  = [parse(i[\"metadata_created\"]).date().isoformat() for i in packages]\n",
    "package_metadata_modified = [parse(i[\"metadata_modified\"]).date().isoformat() for i in packages]\n",
    "\n",
    "# get organization\n",
    "package_organization_title = [i[\"organization\"][\"title\"] for i in packages]\n",
    "package_organization_name = [i[\"organization\"][\"name\"] for i in packages]\n",
    "\n",
    "# get maintainer\n",
    "package_maintainer = [i[\"maintainer\"] if \"maintainer\" in i else 'null' for i in packages]\n",
    "package_maintainer_email = [i[\"maintainer_email\"] if \"maintainer_email\" in i else 'null' for i in packages]\n",
    "\n",
    "# get author\n",
    "package_author = [i[\"author\"] if \"author\" in i else 'null' for i in packages]\n",
    "package_author_email = [i[\"author_email\"] if \"author_email\" in i else 'null' for i in packages]\n",
    "\n",
    "# qa\n",
    "# package_qa_openness_score = [i[\"qa\"][\"openness_score\"] if \"qa\" in i else 'null' for i in packages]\n",
    "# extract openness_score_reason_args\n",
    "# p = re.compile('(?<=\\[\\[\\\")[a-zA-Z]{3,5}')\n",
    "# package_qa_openness_score_reason_args = [p.findall(i[\"qa\"][\"openness_score_reason_args\"]) if \"qa\" in i else [] for i in packages]\n",
    "# package_qa_openness_score_reason_args = [i[0] if len(i) > 0 else 'null' for i in package_qa_openness_score_reason_args]\n",
    "\n",
    "# analyse length of fields\n",
    "s = re.compile('\\s')\n",
    "package_title_len = [len(s.split(i[\"title\"])) for i in packages]\n",
    "package_notes_len  = [len(s.split(i[\"notes\"])) for i in packages]\n",
    "package_purpose_len = [len(s.split(i[\"purpose_of_collecting_information\"])) for i in packages]"
   ]
  },
  {
   "cell_type": "markdown",
   "metadata": {},
   "source": [
    "## #2. Calculate update status\n",
    "\n",
    "This script calculates dataset update status (updated or not) by comparison of today date and date of the future update. If a date of the future update is less than today date, a dataset is not updated. For \"immediately after making changes\" option a planned period of an update is not less than one year."
   ]
  },
  {
   "cell_type": "code",
   "execution_count": 7,
   "metadata": {},
   "outputs": [],
   "source": [
    "# create package_update_frequency array in ukrainian\n",
    "package_update_frequency_ukr = []\n",
    "for i in package_update_frequency:\n",
    "    if i == 'more than once a day':\n",
    "        package_update_frequency_ukr.append(\"Більш як один раз на день\")\n",
    "    elif i == 'once a day':\n",
    "        package_update_frequency_ukr.append(\"Щодня\")\n",
    "    elif i == 'once a week':\n",
    "        package_update_frequency_ukr.append(\"Щотижня\")\n",
    "    elif i == 'once a month':\n",
    "        package_update_frequency_ukr.append(\"Щомісяця\")\n",
    "    elif i == 'once a quarter':\n",
    "        package_update_frequency_ukr.append(\"Щокварталу\")\n",
    "    elif i == 'once a half year':\n",
    "        package_update_frequency_ukr.append(\"Кожного півріччя\")\n",
    "    elif i == 'once a year':\n",
    "        package_update_frequency_ukr.append(\"Щороку\")\n",
    "    elif i == 'immediately after making changes':\n",
    "        package_update_frequency_ukr.append(\"Відразу після внесення змін\")\n",
    "    else:\n",
    "        package_update_frequency_ukr.append(\"Інше\")\n",
    "        \n",
    "        \n",
    "# create timedelta (package_update_frequency_timedelta) array based on package_update_frequency\n",
    "package_update_frequency_timedelta = []\n",
    "for i in package_update_frequency:\n",
    "    if i == 'more than once a day':\n",
    "        package_update_frequency_timedelta.append(datetime.timedelta(seconds=86399))\n",
    "    elif i == 'once a day':\n",
    "        package_update_frequency_timedelta.append(datetime.timedelta(days=1))\n",
    "    elif i == 'once a week':\n",
    "        package_update_frequency_timedelta.append(datetime.timedelta(days=7))\n",
    "    elif i == 'once a month':\n",
    "        package_update_frequency_timedelta.append(datetime.timedelta(days=31))\n",
    "    elif i == 'once a quarter':\n",
    "        package_update_frequency_timedelta.append(datetime.timedelta(days=92))\n",
    "    elif i == 'once a half year':\n",
    "        package_update_frequency_timedelta.append(datetime.timedelta(days=183))\n",
    "    elif i == 'once a year':\n",
    "        package_update_frequency_timedelta.append(datetime.timedelta(days=365))\n",
    "    elif i == 'immediately after making changes':\n",
    "        package_update_frequency_timedelta.append(datetime.timedelta(days=365))\n",
    "    else:\n",
    "        package_update_frequency_timedelta.append(datetime.timedelta(days=365))\n",
    "        \n",
    "# convert strings to date objects\n",
    "package_metadata_created_date = [parse(i).date() for i in package_metadata_created]\n",
    "package_metadata_modified_date = [parse(i).date() for i in package_metadata_modified]\n",
    "\n",
    "# create array of planned update dates and check status (updated in time of not)\n",
    "package_metadata_planned_date = np.array(package_update_frequency_timedelta) + np.array(package_metadata_modified_date)\n",
    "# convert package_metadata_planned_date to ISO format\n",
    "package_metadata_planned_date_iso = [i.isoformat() for i in package_metadata_planned_date]\n",
    "# calculate update satus: if planned apdate date in the past, dataset is not updated 0 - updated in time, 1 - not updated \n",
    "package_update_satus_code = [0 if i > datetime.datetime.now().date() else 1 for i in package_metadata_planned_date]\n",
    "package_update_satus_ukr = [\"Оновлено вчасно\" if i > datetime.datetime.now().date() else \"Не оновлено вчасно\" for i in package_metadata_planned_date]\n"
   ]
  },
  {
   "cell_type": "markdown",
   "metadata": {},
   "source": [
    "## #3. Save df "
   ]
  },
  {
   "cell_type": "code",
   "execution_count": 8,
   "metadata": {
    "scrolled": false
   },
   "outputs": [],
   "source": [
    "# create and save df\n",
    "packages_df =  pd.DataFrame({\"id\": package_id,\n",
    "                             \"title\": package_title,\n",
    "                             \"notes\": package_notes,\n",
    "                             \"purpose\": package_purpose,\n",
    "                             \"url\": package_url,\n",
    "                             \"license_title\": package_license_title,\n",
    "                             \"license_id\": package_license_id,\n",
    "                             \"num_resources\": package_num_resources,\n",
    "                             \"tag_string\": package_tag_string,\n",
    "                             \"num_tags\": package_num_tags,\n",
    "                             \"update_frequency\": package_update_frequency,\n",
    "                             \"update_frequency_ukr\": package_update_frequency_ukr,\n",
    "                             \"metadata_created\": package_metadata_created,\n",
    "                             \"metadata_modified\": package_metadata_modified,\n",
    "                             \"metadata_planned_date_iso\": package_metadata_planned_date_iso,\n",
    "                             \"update_satus_code\": package_update_satus_code,\n",
    "                             \"update_satus_ukr\": package_update_satus_ukr,\n",
    "                             \"organization_title\": package_organization_title,\n",
    "                             \"organization_name\": package_organization_name,\n",
    "                             \"maintainer\": package_maintainer,\n",
    "                             \"maintainer_email\": package_maintainer_email,\n",
    "                             \"author\": package_author,\n",
    "                             \"author_email\": package_author_email,\n",
    "#                             \"qa_openness_score\": package_qa_openness_score,\n",
    "#                             \"qa_openness_score_reason_args\": package_qa_openness_score_reason_args,\n",
    "                             \"title_len\": package_title_len,\n",
    "                             \"notes_len\": package_notes_len,\n",
    "                             \"purpose_len\": package_purpose_len\n",
    "                            })\n",
    "\n",
    "packages_df.to_csv(\"data/packages.csv\", index=False)"
   ]
  }
 ],
 "metadata": {
  "kernelspec": {
   "display_name": "Python 3",
   "language": "python",
   "name": "python3"
  },
  "language_info": {
   "codemirror_mode": {
    "name": "ipython",
    "version": 3
   },
   "file_extension": ".py",
   "mimetype": "text/x-python",
   "name": "python",
   "nbconvert_exporter": "python",
   "pygments_lexer": "ipython3",
   "version": "3.6.7"
  }
 },
 "nbformat": 4,
 "nbformat_minor": 2
}
