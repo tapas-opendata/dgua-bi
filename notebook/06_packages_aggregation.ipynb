{
 "cells": [
  {
   "cell_type": "code",
   "execution_count": 1,
   "metadata": {},
   "outputs": [],
   "source": [
    "import pandas as pd\n",
    "import numpy as np"
   ]
  },
  {
   "cell_type": "code",
   "execution_count": 2,
   "metadata": {},
   "outputs": [],
   "source": [
    "# upload packages_df and resources_df\n",
    "resources_df = pd.read_csv(\"data/resources.csv\")\n",
    "packages_df = pd.read_csv(\"data/packages.csv\")"
   ]
  },
  {
   "cell_type": "markdown",
   "metadata": {},
   "source": [
    "## #1. Aggregate aditional variables"
   ]
  },
  {
   "cell_type": "code",
   "execution_count": 3,
   "metadata": {},
   "outputs": [],
   "source": [
    "# aggregate resources data by packages\n",
    "# 1.1. package size\n",
    "size_mb = resources_df.groupby(\"package_id\", as_index=False).agg({\"size_mb\": pd.Series.sum})\n",
    "# 1.2. number of resources in structured formats\n",
    "num_resources_structured = resources_df.loc[resources_df[\"format_type\"] == \"Структуровані\"].groupby(\"package_id\", as_index=False).agg({\"id\": pd.Series.count})\n",
    "\n",
    "# merge package_size_mb and num_resources_structured\n",
    "agg = pd.merge(size_mb, num_resources_structured, left_on = \"package_id\", right_on = \"package_id\", how = \"left\")\n",
    "\n",
    "# merge agg and packages_df\n",
    "packages_df = pd.merge(packages_df, agg,\n",
    "                       left_on = \"id\", right_on = \"package_id\", how = \"left\", suffixes= (\"\", \"_agg\"))\n",
    "\n",
    "\n",
    "# rename columns\n",
    "packages_df = packages_df.rename(index=str, columns={\"size_mb\": \"resources_size_mb_sum\",\n",
    "                                                    \"id_agg\": \"num_resources_structured\"})\n",
    "\n",
    "# drop doubling id\n",
    "packages_df = packages_df.drop([\"package_id\"], axis=1)\n",
    "\n",
    "# save csv\n",
    "packages_df.to_csv(\"data/packages.csv\", index=False)"
   ]
  }
 ],
 "metadata": {
  "kernelspec": {
   "display_name": "Python 3",
   "language": "python",
   "name": "python3"
  },
  "language_info": {
   "codemirror_mode": {
    "name": "ipython",
    "version": 3
   },
   "file_extension": ".py",
   "mimetype": "text/x-python",
   "name": "python",
   "nbconvert_exporter": "python",
   "pygments_lexer": "ipython3",
   "version": "3.6.7"
  }
 },
 "nbformat": 4,
 "nbformat_minor": 2
}
