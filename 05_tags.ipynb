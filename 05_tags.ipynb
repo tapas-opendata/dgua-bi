{
 "cells": [
  {
   "cell_type": "code",
   "execution_count": 1,
   "metadata": {},
   "outputs": [],
   "source": [
    "import json\n",
    "import itertools\n",
    "import re\n",
    "import pandas as pd"
   ]
  },
  {
   "cell_type": "code",
   "execution_count": 2,
   "metadata": {},
   "outputs": [],
   "source": [
    "# upload packages\n",
    "with open('data/packages.json') as json_file:\n",
    "    packages = json.load(json_file)"
   ]
  },
  {
   "cell_type": "markdown",
   "metadata": {},
   "source": [
    "## #1. Subset values of dicts in arrays"
   ]
  },
  {
   "cell_type": "code",
   "execution_count": 3,
   "metadata": {},
   "outputs": [],
   "source": [
    "# subsetting at the level of packages\n",
    "package_id = [i[\"id\"] for i in packages]\n",
    "package_tags = [i[\"tags\"] for i in packages]\n",
    "package_tags_len = [len(i[\"tags\"]) for i in packages]\n",
    "\n",
    "# subsetting at the level of tags\n",
    "tags = list(itertools.chain(*package_tags))\n",
    "tag_name = [i[\"name\"] for i in tags]\n",
    "# tag_display_name = [i[\"display_name\"] for i in tags]\n",
    "tag_state = [i[\"state\"] for i in tags]\n",
    "tag_id = [i[\"id\"] for i in tags]\n",
    "\n",
    "# calculate length of tags\n",
    "s = re.compile('\\s')\n",
    "tag_name_len = [len(s.split(i)) for i in tag_name]\n",
    "\n",
    "# generate array of package ids for each tag\n",
    "tag_package_id = []\n",
    "for i, l in zip(package_id, package_tags_len):\n",
    "    tag_package_id.append(list(itertools.repeat(i, l)))\n",
    "\n",
    "tag_package_id = list(itertools.chain(*tag_package_id))"
   ]
  },
  {
   "cell_type": "code",
   "execution_count": 4,
   "metadata": {},
   "outputs": [],
   "source": [
    "# create and save df\n",
    "tag_df = pd.DataFrame({\"name\": tag_name,\n",
    "#                       \"display_name\": tag_display_name,\n",
    "                       \"state\": tag_state,\n",
    "                       \"id\": tag_id,\n",
    "                       \"name_len\": tag_name_len,\n",
    "                       \"package_id\": tag_package_id\n",
    "                      })"
   ]
  },
  {
   "cell_type": "markdown",
   "metadata": {},
   "source": [
    "## #4. Add aditional metadata"
   ]
  },
  {
   "cell_type": "code",
   "execution_count": 5,
   "metadata": {},
   "outputs": [],
   "source": [
    "# upload packages_df\n",
    "packages_df = pd.read_csv(\"data/packages.csv\")\n",
    "\n",
    "# add packages' matadata\n",
    "tag_df = pd.merge(tag_df, packages_df[[\"id\", \"title\", \"organization_title\", \"organization_name\"]],\n",
    "                  left_on = \"package_id\", right_on = \"id\", how = \"left\", suffixes= (\"_tag\", \"_package\"))\n",
    "\n",
    "tag_df = tag_df.rename(index=str, columns={\"id_tag\": \"id\", \"title\": \"package_title\"})\n",
    "tag_df = tag_df.drop([\"id_package\"], axis=1)\n",
    "\n",
    "# save table\n",
    "tag_df.to_csv(\"data/tags.csv\", index=False)"
   ]
  }
 ],
 "metadata": {
  "kernelspec": {
   "display_name": "Python 3",
   "language": "python",
   "name": "python3"
  },
  "language_info": {
   "codemirror_mode": {
    "name": "ipython",
    "version": 3
   },
   "file_extension": ".py",
   "mimetype": "text/x-python",
   "name": "python",
   "nbconvert_exporter": "python",
   "pygments_lexer": "ipython3",
   "version": "3.6.7"
  }
 },
 "nbformat": 4,
 "nbformat_minor": 2
}
