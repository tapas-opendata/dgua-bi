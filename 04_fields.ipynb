{
 "cells": [
  {
   "cell_type": "code",
   "execution_count": 1,
   "metadata": {},
   "outputs": [],
   "source": [
    "import json\n",
    "import itertools\n",
    "import re\n",
    "import pandas as pd"
   ]
  },
  {
   "cell_type": "code",
   "execution_count": 2,
   "metadata": {},
   "outputs": [],
   "source": [
    "# open local copy\n",
    "with open('data/resource_samples.json') as json_file:\n",
    "    resource_samples = json.load(json_file)"
   ]
  },
  {
   "cell_type": "markdown",
   "metadata": {},
   "source": [
    "## #1. Subset values of dicts in arrays"
   ]
  },
  {
   "cell_type": "code",
   "execution_count": 4,
   "metadata": {},
   "outputs": [],
   "source": [
    "# filter successful results\n",
    "datastore_result_filt = [i[\"result\"] for i in resource_samples if \"result\" in i]\n",
    "# subset properties\n",
    "datastore_result_resource_id = [i[\"resource_id\"] for i in datastore_result_filt]\n",
    "datastore_result_fields = [i[\"fields\"] for i in datastore_result_filt]\n",
    "datastore_result_fields_len = [len(i[\"fields\"]) for i in datastore_result_filt]\n",
    "# unnest fields\n",
    "fields = list(itertools.chain(*datastore_result_fields))\n",
    "field_type = [i[\"type\"] for i in fields]\n",
    "field_id = [i[\"id\"] for i in fields]\n",
    "field_len = [len(i[\"id\"]) for i in fields]\n",
    "\n",
    "# in the case of exceeded data rate limit relaunch Jupiter with parameter: jupyter notebook --NotebookApp.iopub_data_rate_limit=10000000000\n",
    "\n",
    "# create an array of resources identifier with equal length to fields\n",
    "field_resource_id = []\n",
    "\n",
    "for i, l in zip(datastore_result_resource_id, datastore_result_fields_len):\n",
    "    field_resource_id.append(list(itertools.repeat(i, l)))\n",
    "    \n",
    "field_resource_id = list(itertools.chain(*field_resource_id))"
   ]
  },
  {
   "cell_type": "markdown",
   "metadata": {},
   "source": [
    "## #2. Attribute names parsing\n",
    "This code parses attributes and returns error types."
   ]
  },
  {
   "cell_type": "code",
   "execution_count": 5,
   "metadata": {},
   "outputs": [],
   "source": [
    "# match system identifier\n",
    "sys_id = re.compile('^_id$')\n",
    "# match system column indexes\n",
    "sys_columns = re.compile('^\\d+_$')\n",
    "# match numbers and codes\n",
    "code = re.compile('^\\d+$|^\\d+\\.\\d+$')\n",
    "# match camelCase or snake_case\n",
    "correct_name = re.compile('^[a-zA-Z]{2}[a-zA-Z0-9_]*$')\n",
    "# match cyrillic with spaces\n",
    "incorrect_name = re.compile('[А-яІіЇїЄєҐґ]+')\n",
    "\n",
    "field_status = []\n",
    "field_status_code = []\n",
    "\n",
    "\n",
    "for i in field_id:\n",
    "    if code.match(i) != None:\n",
    "        field_status.append(\"Номер або числовий код\")\n",
    "        field_status_code.append(0)\n",
    "    elif sys_id.match(i) != None:\n",
    "        field_status.append(\"Системний ідентифікатор\")\n",
    "        field_status_code.append(0)\n",
    "    elif sys_columns.match(i) != None:\n",
    "        field_status.append(\"Назви атрибутів нерозпізнані: присвоєно системні індекси\")\n",
    "        field_status_code.append(0)\n",
    "    elif correct_name.match(i) != None:\n",
    "        field_status.append(\"Рекомендоване оформлення (camelCase або snake_case)\")\n",
    "        field_status_code.append(1)\n",
    "    elif incorrect_name.match(i) != None:\n",
    "        field_status.append(\"Кирилиця у назвах атрибутів\")\n",
    "        field_status_code.append(0)\n",
    "    else:\n",
    "        field_status.append(\"Інші помилки\")\n",
    "        field_status_code.append(0)\n"
   ]
  },
  {
   "cell_type": "code",
   "execution_count": 7,
   "metadata": {},
   "outputs": [],
   "source": [
    "# create and save df\n",
    "field_df = pd.DataFrame({\"id\": field_id,\n",
    "                         \"type\": field_type,\n",
    "                         \"status\": field_status,\n",
    "                         \"status_code\":field_status_code,\n",
    "                         \"len\": field_len,\n",
    "                         \"resource_id\": field_resource_id})"
   ]
  },
  {
   "cell_type": "markdown",
   "metadata": {},
   "source": [
    "## #3. Add aditional metadata"
   ]
  },
  {
   "cell_type": "code",
   "execution_count": 8,
   "metadata": {},
   "outputs": [],
   "source": [
    "# (3.1.) upload packages_df and resources_df\n",
    "resources_df = pd.read_csv(\"data/resources.csv\")\n",
    "packages_df = pd.read_csv(\"data/packages.csv\")\n",
    "\n",
    "\n",
    "\n",
    "# (3.2.) add package_id\n",
    "field_df = pd.merge(field_df, resources_df[[\"id\", \"package_id\", \"name\"]],\n",
    "                  left_on = \"resource_id\", right_on = \"id\", how = \"left\", suffixes= (\"_field\", \"_resource\"))\n",
    "# rename columns\n",
    "field_df = field_df.rename(index=str, columns={\"id_field\": \"id\",\n",
    "                                              \"name\":\"resource_name\"})\n",
    "# drop doubling id\n",
    "field_df = field_df.drop([\"id_resource\"], axis=1)\n",
    "\n",
    "\n",
    "\n",
    "# (3.3.) add package metadata\n",
    "field_df = pd.merge(field_df, packages_df[[\"id\", \"title\", \"organization_title\", \"organization_name\"]],\n",
    "                  left_on = \"package_id\", right_on = \"id\", how = \"left\", suffixes= (\"_field\", \"_package\"))\n",
    "# rename columns\n",
    "field_df = field_df.rename(index=str, columns={\"id_field\": \"id\",\n",
    "                                               \"title\": \"package_title\"})\n",
    "# drop doubling id\n",
    "field_df = field_df.drop([\"id_package\"], axis=1)\n",
    "\n",
    "# save df\n",
    "field_df.to_csv(\"data/fields.csv\", index=False)"
   ]
  }
 ],
 "metadata": {
  "kernelspec": {
   "display_name": "Python 3",
   "language": "python",
   "name": "python3"
  },
  "language_info": {
   "codemirror_mode": {
    "name": "ipython",
    "version": 3
   },
   "file_extension": ".py",
   "mimetype": "text/x-python",
   "name": "python",
   "nbconvert_exporter": "python",
   "pygments_lexer": "ipython3",
   "version": "3.6.7"
  }
 },
 "nbformat": 4,
 "nbformat_minor": 2
}
